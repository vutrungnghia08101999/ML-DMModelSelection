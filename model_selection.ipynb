{
 "cells": [
  {
   "cell_type": "markdown",
   "metadata": {},
   "source": [
    "## Bài toán\n",
    "Dữ liệu gồm 1135 văn bản phân vào 10 chủ đề khác nhau. Cần xây dựng và đánh giá các mô hình dự đoán nhãn của các văn bản trên."
   ]
  },
  {
   "cell_type": "markdown",
   "metadata": {},
   "source": [
    "## Đánh giá và tối ưu hoá mô hình \n",
    "\n",
    "- Lựa chọn các giá trị của các tham số bằng các thử nghiệm. \n",
    "- Với mỗi bộ tham số: \n",
    "    - Sử dụng phương pháp cross-validate chia dữ liệu và training, để đánh giá mô hình một cách tổng quát. \n",
    "- Sử dụng độ đo Accuracy để làm độ đo đánh giá chất lượng mô hình. \n",
    "- Với mỗi mô hình, tìm ra bộ tham số tốt nhất, và tiếp tục thử các mô hình khác. \n",
    "- So sánh các mô hình"
   ]
  },
  {
   "cell_type": "markdown",
   "metadata": {},
   "source": [
    "## Mục lục\n",
    "- Load dữ liệu từ thư mục\n",
    "- Chuyển dữ liệu dạng text về ma trận (n x m) bằng tfidf. Chuyển nhãn các văn bản về dạng số.\n",
    "- Lựa chọn tham số các mô hình KNN (K), SVM (kernel, C), Random Forest (criteria, N)\n",
    "- So sánh 3 mô hình tốt nhất\n",
    "- Đánh giá sự ảnh hưởng của việc sử dụng stopwords"
   ]
  },
  {
   "cell_type": "code",
   "execution_count": null,
   "metadata": {},
   "outputs": [],
   "source": [
    "import os\n",
    "import matplotlib.pyplot as plt\n",
    "import numpy as np\n",
    "from sklearn.model_selection import learning_curve\n",
    "\n",
    "from sklearn.datasets.base import load_files\n",
    "from pyvi import ViTokenizer\n",
    "\n",
    "\n",
    "from sklearn import svm\n",
    "from sklearn.ensemble.forest import RandomForestClassifier\n",
    "from sklearn.datasets.base import load_files\n",
    "from sklearn.feature_extraction.text import CountVectorizer, TfidfVectorizer\n",
    "from sklearn.feature_extraction.text import TfidfTransformer\n",
    "from sklearn.model_selection import train_test_split, GridSearchCV\n",
    "from sklearn.pipeline import Pipeline\n",
    "from sklearn.neighbors import KNeighborsClassifier\n",
    "\n",
    "%matplotlib inline"
   ]
  },
  {
   "cell_type": "markdown",
   "metadata": {},
   "source": [
    "## Load dữ liệu từ thư mục\n",
    "\n",
    "Cấu trúc thư mục như sau \n",
    "\n",
    "- data_sample/news_1135/\n",
    "\n",
    "    - Kinh tế: \n",
    "        - bài báo 1.txt \n",
    "        - bài báo 2.txt \n",
    "    - Pháp luật\n",
    "        - bài báo 3.txt \n",
    "        - bài báo 4.txt "
   ]
  },
  {
   "cell_type": "code",
   "execution_count": null,
   "metadata": {},
   "outputs": [],
   "source": [
    "INPUT = 'data_sample/news_1135'\n",
    "os.makedirs(\"images\",exist_ok=True)  # thư mục lưu các các hình ảnh trong quá trình huấn luyện và đánh gía"
   ]
  },
  {
   "cell_type": "code",
   "execution_count": null,
   "metadata": {},
   "outputs": [],
   "source": [
    "# statistics\n",
    "print('Các nhãn và số văn bản tương ứng trong dữ liệu')\n",
    "print('----------------------------------------------')\n",
    "n = 0\n",
    "for label in os.listdir(INPUT):\n",
    "    print(f'{label}: {len(os.listdir(os.path.join(INPUT, label)))}')\n",
    "    n += len(os.listdir(os.path.join(INPUT, label)))\n",
    "\n",
    "print('-------------------------')\n",
    "print(f\"Tổng số văn bản: {n}\")"
   ]
  },
  {
   "cell_type": "code",
   "execution_count": null,
   "metadata": {},
   "outputs": [],
   "source": [
    "# load data\n",
    "data_train = load_files(container_path=INPUT, encoding=\"utf-8\")\n",
    "\n",
    "print('mapping:')\n",
    "for i in range(len(data_train.target_names)):\n",
    "    print(f'{data_train.target_names[i]} - {i}')\n",
    "\n",
    "print('--------------------------')\n",
    "print(data_train.filenames[0:1])\n",
    "# print(data_train.data[0:1])\n",
    "print(data_train.target[0:1])\n",
    "print(data_train.data[0:1])\n",
    "\n",
    "print(\"\\nTong so file: {}\" .format( len(data_train.filenames)))"
   ]
  },
  {
   "cell_type": "markdown",
   "metadata": {},
   "source": [
    "## Chuyển dữ liệu dạng text về ma trận (n x m) bằng tfidf. Chuyển nhãn các văn bản về dạng số"
   ]
  },
  {
   "cell_type": "code",
   "execution_count": null,
   "metadata": {},
   "outputs": [],
   "source": [
    "# load dữ liệu các stopwords \n",
    "with open(\"vietnamese-stopwords.txt\") as f:\n",
    "    stopwords = f.readlines()\n",
    "stopwords = [x.strip().replace(\" \", \"_\") for x in stopwords] \n",
    "print(f\"Số lượng stopwords: {len(stopwords)}\")\n",
    "print(stopwords[:10])\n",
    "\n",
    "# \n",
    "# Transforming data \n",
    "# Chuyển hoá dữ liệu text về dạng vector tfidf \n",
    "#     - loại bỏ từ dừng\n",
    "#     - sinh từ điển\n",
    "module_count_vector = CountVectorizer(stop_words=stopwords)\n",
    "model_rf_preprocess = Pipeline([('vect', module_count_vector),\n",
    "                    ('tfidf', TfidfTransformer()),\n",
    "                    ])\n",
    "# Hàm thực hiện chuyển đổi dữ liệu text thành dữ liệu số dạng ma trận \n",
    "# Input: Dữ liệu 2 chiều dạng numpy.array, mảng nhãn id dạng numpy.array \n",
    "data_preprocessed = model_rf_preprocess.fit_transform(data_train.data, data_train.target)\n",
    "\n",
    "print(f\"\\nSố lượng từ trong từ điển: {len(module_count_vector.vocabulary_)}\")\n",
    "print(f\"Kích thước dữ liệu sau khi xử lý: {data_preprocessed.shape}\")\n",
    "print(f\"Kích thước nhãn tương ứng: {data_train.target.shape}\")"
   ]
  },
  {
   "cell_type": "markdown",
   "metadata": {},
   "source": [
    "## Lựa chọn tham số các mô hình KNN (K), SVM (kernel, C), Random Forest (criteria, N)\n",
    "\n",
    "- Viết hàm thực hiện huấn luyện mô hình và đánh giá theo cross-validation,\n",
    "- Sử dụng các thư viện hỗ trợ để vẽ đồ thị toàn bộ quá trình huấn luyện"
   ]
  },
  {
   "cell_type": "code",
   "execution_count": null,
   "metadata": {},
   "outputs": [],
   "source": [
    "# hàm sinh id màu  \n",
    "def get_cmap(n):\n",
    "    return 'C' + str(n)\n",
    "\n",
    "# Hàm thực hiện training model, crossvalidate và vẽ lên đồ thị sử dụng mat libplot \n",
    "def plot_learning_curve(estimator, title, label_curve, X, y, ylim=None, cv=None,\n",
    "                        n_jobs=1, train_sizes=np.linspace(.1, 1.0, 5), new_plot=False,\n",
    "                        idx_color=0):\n",
    "    \n",
    "    # Khởi tạo bức ảnh mới với thư viện plot lib\n",
    "    if new_plot:\n",
    "        # plt.figure()\n",
    "        plt.title(title)\n",
    "        plt.xlabel(\"Training examples\")\n",
    "        plt.ylabel(\"Accuracy\")\n",
    "        plt.grid()\n",
    "    \n",
    "    # chú thích nếu có \n",
    "    if ylim is not None:\n",
    "        plt.ylim(*ylim)\n",
    "        \n",
    "    #\n",
    "    # thực hiện training model, ghi nhận các giá trị trong quá trình training \n",
    "    # cv = số fold cross validate, số phần bộ dữ liệu được chia để thực hiện training testing.\n",
    "    # train_sizes = mảng tỉ lệ, các tỉ lệ được hệ thống chọn làm điểm dừng để thực hiện 1 testing \n",
    "    #  train_sizes = [0.3, 0.5] => hệ thống lấy 30 % dữ liệu để train và thực hiện test, tương tự 50 % ..\n",
    "    # scoring = hàm mục tiêu để đánh giá chất lượng mô hình và vẽ lên đồ thị \n",
    "    train_sizes, train_scores, test_scores = learning_curve(\n",
    "        estimator, X, y, cv=cv, n_jobs=n_jobs, train_sizes=train_sizes, scoring=\"accuracy\")\n",
    "    \n",
    "    # Lấy trung bình cộng các giá trị output của các fold\n",
    "    train_scores_mean = np.mean(train_scores, axis=1)\n",
    "    train_scores_std = np.std(train_scores, axis=1)\n",
    "    test_scores_mean = np.mean(test_scores, axis=1)\n",
    "    test_scores_std = np.std(test_scores, axis=1)\n",
    "    \n",
    "    # random 1 màu để vẽ \n",
    "    color = get_cmap(idx_color)\n",
    "    \n",
    "    # thực hiện vẽ các giá trị số lên đồ thị với màu vừa được random \n",
    "    plt.fill_between(train_sizes, test_scores_mean - test_scores_std,\n",
    "                     test_scores_mean + test_scores_std, alpha=0.1, color=color)\n",
    "    plt.plot(train_sizes, test_scores_mean, 'o-', color=color,\n",
    "             label=label_curve)\n",
    "\n",
    "    plt.legend(loc=\"best\")\n",
    "    return plt"
   ]
  },
  {
   "cell_type": "markdown",
   "metadata": {},
   "source": [
    "### Thay đổi K trong mô hình KNN "
   ]
  },
  {
   "cell_type": "code",
   "execution_count": null,
   "metadata": {},
   "outputs": [],
   "source": [
    "title = \"KNN - change number of neighbor\"\n",
    "\n",
    "for i, n_neighbor in enumerate([5, 10, 15, 20]):\n",
    "    # Với từng giá trị n_neighbor nhận được, \n",
    "    # thực hiện build model và training cross-validate \n",
    "    # vẽ kết quả tìm được lên đồ thị đường.\n",
    "    text_clf = KNeighborsClassifier(n_neighbors=n_neighbor)\n",
    "    # n_jobs = -1 để thực hiện training đa luồng song song trên tất cả các chip \n",
    "    plt = plot_learning_curve(text_clf, title, \"n_neighbors = {}\".format(n_neighbor),\n",
    "                              data_preprocessed, data_train.target,\n",
    "                              (0.4, 1.01),\n",
    "                              train_sizes=np.linspace(.1, 1.0, 10),\n",
    "                              cv=10, n_jobs=-1, idx_color=i, new_plot=i == 0)\n",
    "    \n",
    "plt.savefig('images/knn_change_K.png', bbox_inches='tight')\n",
    "plt.show()\n"
   ]
  },
  {
   "cell_type": "markdown",
   "metadata": {},
   "source": [
    "### Thay đổi tham số kernel của mô hình SVM "
   ]
  },
  {
   "cell_type": "code",
   "execution_count": null,
   "metadata": {},
   "outputs": [],
   "source": [
    "title = \"Learning Curves SVM, Change kernel, C=1\"\n",
    "\n",
    "for i, kernel in enumerate(['linear', 'poly', 'rbf', 'sigmoid']):\n",
    "    # Với từng giá trị C nhận được, \n",
    "    # thực hiện build model và training cross-validate\n",
    "    # vẽ kết quả tìm được lên đồ thị đường.\n",
    "    text_clf = svm.SVC(kernel=kernel, C=1.0)\n",
    "    \n",
    "    plt = plot_learning_curve(text_clf, title, f\"kernel = {kernel}\",\n",
    "                              data_preprocessed, data_train.target,\n",
    "                              (0.0, 1.01), cv=10, n_jobs=-1, idx_color=i, new_plot=i == 0)\n",
    "\n",
    "# lưu hình ảnh ra file \n",
    "plt.savefig('images/svm_change_kernel.png', bbox_inches='tight')\n",
    "plt.show()\n"
   ]
  },
  {
   "cell_type": "markdown",
   "metadata": {},
   "source": [
    "### Thay đổi tham số C của mô hình SVM"
   ]
  },
  {
   "cell_type": "code",
   "execution_count": null,
   "metadata": {},
   "outputs": [],
   "source": [
    "title = \"Learning Curves SVM, Linear kernel, change C\"\n",
    "\n",
    "for i, C in enumerate([.1, 1.0, 2.0, 5.0, 10.0]):\n",
    "    # Với từng giá trị C nhận được, \n",
    "    # thực hiện build model và training cross-validate \n",
    "    # vẽ kết quả tìm được lên đồ thị đường. \n",
    "    text_clf = svm.SVC(kernel='linear', C=C)\n",
    "    \n",
    "    plt = plot_learning_curve(text_clf, title, \"C = %0.1f\" % (C),\n",
    "                              data_preprocessed, data_train.target,\n",
    "                              (0.0, 1.01), cv=10, n_jobs=-1, idx_color=i, new_plot=i == 0)\n",
    "\n",
    "# lưu hình ảnh ra file \n",
    "plt.savefig('images/svm_change_C.png', bbox_inches='tight')\n",
    "plt.show()\n"
   ]
  },
  {
   "cell_type": "markdown",
   "metadata": {},
   "source": [
    "### Thay đổi tham số criterion của mô hình Random Forest"
   ]
  },
  {
   "cell_type": "code",
   "execution_count": null,
   "metadata": {},
   "outputs": [],
   "source": [
    "title = \"Random forest - criterion\"\n",
    "\n",
    "# duyệt qua mảng các giá trị của tham số criterion \n",
    "for i, criterion in enumerate([\"gini\", \"entropy\"]):\n",
    "    # Với từng giá trị criterion nhận được, \n",
    "    # thực hiện build model và training cross-validate \n",
    "    # vẽ kết quả tìm được lên đồ thị đường. \n",
    "    text_clf = RandomForestClassifier(criterion=criterion, n_estimators=50)\n",
    "    plt = plot_learning_curve(text_clf, title, \"criterion = {}\".format(criterion),\n",
    "                              data_preprocessed, data_train.target,\n",
    "                              (0.4, 1.01),\n",
    "                              train_sizes=np.linspace(.1, 1.0, 10),\n",
    "                              cv=10, n_jobs=-1, idx_color=i, new_plot=i == 0)\n",
    "plt.savefig('images/RF_change_criterion.png', bbox_inches='tight')\n",
    "plt.show()\n"
   ]
  },
  {
   "cell_type": "markdown",
   "metadata": {},
   "source": [
    "### Thay đổi số cây quyết định trong mô hình Random Forest "
   ]
  },
  {
   "cell_type": "code",
   "execution_count": null,
   "metadata": {},
   "outputs": [],
   "source": [
    "title = \"Random forest - n_estimator\"\n",
    "\n",
    "# duyệt qua mảng các giá trị của tham số n_estimators \n",
    "for i, n_estimators in enumerate([5, 10, 20, 50, 100]):\n",
    "    \n",
    "    # Với từng giá trị n_estimators nhận được, \n",
    "    # thực hiện build model và training cross-validate \n",
    "    # vẽ kết quả tìm được lên đồ thị đường. \n",
    "    text_clf = RandomForestClassifier(criterion='gini', n_estimators=n_estimators)\n",
    "    plt = plot_learning_curve(text_clf, title, \"n_estimators = {}\".format(n_estimators),\n",
    "                              data_preprocessed, data_train.target,\n",
    "                              (0.4, 1.01),\n",
    "                              train_sizes=np.linspace(.1, 1.0, 10),\n",
    "                              cv=10, n_jobs=-1, idx_color=i, new_plot=i == 0)\n",
    "# lưu hình ảnh ra file \n",
    "plt.savefig('images/RF_change_N.png', bbox_inches='tight')\n",
    "plt.show()"
   ]
  },
  {
   "cell_type": "markdown",
   "metadata": {},
   "source": [
    "## So sánh các mô hình với các bộ tham số tốt nhất  "
   ]
  },
  {
   "cell_type": "code",
   "execution_count": null,
   "metadata": {},
   "outputs": [],
   "source": [
    "title = \"Model competitive\"\n",
    "\n",
    "best_models = [\n",
    "    KNeighborsClassifier(n_neighbors=10),\n",
    "    svm.SVC(kernel='linear', C=1.0),\n",
    "    RandomForestClassifier(criterion='gini', n_estimators=100)\n",
    "]\n",
    "best_models_name = [\n",
    "    'KNeighborsClassifier',\n",
    "    'svm.SVC',\n",
    "    'RandomForestClassifier'\n",
    "]\n",
    "\n",
    "for i, estimator in enumerate(best_models):\n",
    "    \n",
    "    # Với từng giá trị model, \n",
    "    # thực hiện build model và training cross-validate \n",
    "    # vẽ kết quả tìm được lên đồ thị đường. \n",
    "    text_clf = estimator\n",
    "    plt = plot_learning_curve(text_clf, title, \"estimator = {}\".format(best_models_name[i]),\n",
    "                              data_preprocessed, data_train.target,\n",
    "                              (0.4, 1.01),\n",
    "                              train_sizes=np.linspace(.1, 1.0, 10),\n",
    "                              cv=10, n_jobs=-1, idx_color=i, new_plot=i == 0)\n",
    "plt.savefig('images/Model_competitive.png', bbox_inches='tight')\n",
    "plt.show()"
   ]
  },
  {
   "cell_type": "markdown",
   "metadata": {},
   "source": [
    "## Đánh giá sự ảnh hưởng của việc sử dụng stopwords"
   ]
  },
  {
   "cell_type": "code",
   "execution_count": null,
   "metadata": {},
   "outputs": [],
   "source": [
    "title = \"Learning Curves SVM, use stopword or not\"\n",
    "\n",
    "text_clfs = [\n",
    "    Pipeline([\n",
    "        ('vect', CountVectorizer(stop_words=stopwords)),\n",
    "        ('tfidf', TfidfTransformer()),\n",
    "        ('clf', svm.SVC(kernel='linear', C=1.0))\n",
    "    ]),\n",
    "    Pipeline([\n",
    "        ('vect', CountVectorizer()),\n",
    "        ('tfidf', TfidfTransformer()),\n",
    "        ('clf', svm.SVC(kernel='linear', C=1.0)),\n",
    "    ]), \n",
    "]\n",
    "text_clfs_name = [\n",
    "    \"use-stopwords\", \"no-use-stopwords\"\n",
    "]\n",
    "\n",
    "for i, text_clf in enumerate(text_clfs):\n",
    "    plt = plot_learning_curve(text_clf, title, \"%s\" % (text_clfs_name[i]),\n",
    "                              data_train.data, data_train.target,\n",
    "                              (0.0, 1.01), cv=10, n_jobs=-1, idx_color=i, new_plot=i == 0)\n",
    "\n",
    "# lưu hình ảnh ra file \n",
    "plt.savefig('images/checkstopwords_svm.png', bbox_inches='tight')\n",
    "plt.show()\n"
   ]
  },
  {
   "cell_type": "code",
   "execution_count": null,
   "metadata": {},
   "outputs": [],
   "source": []
  }
 ],
 "metadata": {
  "kernelspec": {
   "display_name": "Python 3",
   "language": "python",
   "name": "python3"
  },
  "language_info": {
   "codemirror_mode": {
    "name": "ipython",
    "version": 3
   },
   "file_extension": ".py",
   "mimetype": "text/x-python",
   "name": "python",
   "nbconvert_exporter": "python",
   "pygments_lexer": "ipython3",
   "version": "3.8.5"
  }
 },
 "nbformat": 4,
 "nbformat_minor": 4
}
