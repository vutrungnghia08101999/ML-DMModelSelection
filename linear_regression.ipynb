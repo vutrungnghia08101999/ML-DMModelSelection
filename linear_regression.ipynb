{
 "cells": [
  {
   "cell_type": "markdown",
   "metadata": {},
   "source": [
    "## Bài toán\n",
    " - Dự đoán khả năng tiến triển của bệnh tiểu đường thông qua các chỉ số sinh lý của cơ thể.\n",
    "\n",
    "\n",
    "## Thông tin dữ liệu:\n",
    "\n",
    "- Số lượng mẫu: 442 (thông tin từ 442 bệnh nhân)\n",
    "- Thông tin ccs thuộc tính (10 cột đầu tiên):\n",
    "  - Age(tuổi)\n",
    "  - Sex (giới tính) \n",
    "  - Body mass index (chỉ số khối cơ thể)\n",
    "  - Average blood pressure(huyết ap trung bình)\n",
    "  - S1, S2, S3, S4, S5, S6 (sáu phép đo huyết thanh khác)\n",
    "- Mục tiêu: Cột 11, chỉ số đánh giá mức độ tiến triển của bệnh sau 1 năm điều trị\n",
    "\n",
    "**! Chú ý: Các thuộc tính trong dữ liệu đã được chuẩn hóa**\n",
    "\n",
    "Xem thêm thông tin về nguồn dữ liệu tại: (https://www4.stat.ncsu.edu/~boos/var.select/diabetes.html)\n"
   ]
  },
  {
   "cell_type": "markdown",
   "metadata": {},
   "source": [
    "## Hướng giải quyết\n",
    "\n",
    "Giả sử rằng khả năng tiến triển của bệnh tiểu đường (ký hiệu: `y`) là đại lượng phụ thuộc tuyến tính vào các thông tin sinh lý của bệnh nhân như các thuộc tính đã mô tả ở trên (tuổi, giới tính, chỉ số khối, ... - ký hiệu: $x_1, x_2, .. x_n$) : \n",
    "\n",
    "$y = w_0 + w_1x_1 + w_1x_2 + ... + w_nx_n$\n",
    "\n",
    "Mục tiêu: Tìm được bộ trọng số $[w_0, w_1, w_2... w_n]$ biểu diễn mối quan hệ này. "
   ]
  },
  {
   "cell_type": "markdown",
   "metadata": {},
   "source": [
    "## Thư viện sử dụng \n",
    "\n",
    "- matplotlib: phục vụ vẽ các đồ thị \n",
    "- numpy: tính toán các phép biến đổi trên ma trận / vector \n",
    "- math: thực hiện một số hàm tính toán đơn giản\n",
    "- pandas: Xử lý dữ liệu bảng hai chiều \n",
    "- scikit-learn: (sklearn) thư viện hỗ trợ xây dựng các mô hình học máy, các hàm huấn luyện và đánh giá \n"
   ]
  },
  {
   "cell_type": "code",
   "execution_count": 20,
   "metadata": {},
   "outputs": [],
   "source": [
    "import matplotlib.pyplot as plt\n",
    "import numpy as np\n",
    "import pandas as pd \n",
    "import math \n",
    "import seaborn as sns\n",
    "\n",
    "from sklearn import datasets, linear_model\n",
    "from sklearn.metrics import mean_squared_error, r2_score\n"
   ]
  },
  {
   "cell_type": "markdown",
   "metadata": {},
   "source": [
    "## 1. Đọc dữ liệu \n",
    "\n",
    "Dữ liệu về bệnh tiểu đường được hỗ trợ bởi sklearn, đọc dữ liệu thông qua hàm `datasets.load_diabetes()` \n",
    "\n",
    "Xem thêm các bộ dữ liệu khác tại https://scikit-learn.org/stable/datasets/index.html#toy-datasets. \n",
    "\n",
    "Dữ liệu nhận về ở dạng object với các thành phần thuộc tính: \n",
    "- data: ma trận 2 chiều (442x10) - các thông tin bệnh nhân được chuẩn hoá về dạng số thực\n",
    "- target: mảng các số thực (442,) - chỉ số tiến triển của bệnh tiểu đường"
   ]
  },
  {
   "cell_type": "code",
   "execution_count": 4,
   "metadata": {},
   "outputs": [
    {
     "name": "stdout",
     "output_type": "stream",
     "text": [
      "Số chiều input:  (442, 10)\n",
      "Số chiều target y tương ứng:  (442,)\n",
      "\n",
      "5 mẫu dữ liệu đầu tiên:\n",
      "input:  [[ 0.03807591  0.05068012  0.06169621  0.02187235 -0.0442235  -0.03482076\n",
      "  -0.04340085 -0.00259226  0.01990842 -0.01764613]\n",
      " [-0.00188202 -0.04464164 -0.05147406 -0.02632783 -0.00844872 -0.01916334\n",
      "   0.07441156 -0.03949338 -0.06832974 -0.09220405]]\n",
      "target:  [151.  75.]\n"
     ]
    }
   ],
   "source": [
    "# sử dụng hàm load_diabetes để load dữ liệu\n",
    "diabetes = datasets.load_diabetes()\n",
    "# train_data = load(train_path)\n",
    "print(\"Số chiều input: \", diabetes.data.shape)\n",
    "print(\"Số chiều target y tương ứng: \", diabetes.target.shape)\n",
    "print()\n",
    "\n",
    "print(\"5 mẫu dữ liệu đầu tiên:\")\n",
    "print(\"input: \", diabetes.data[:2])\n",
    "print(\"target: \",diabetes.target[:2])"
   ]
  },
  {
   "cell_type": "markdown",
   "metadata": {},
   "source": [
    "## 2. Xây dựng mô hình hồi quy sử dụng Sklearn\n",
    "\n",
    "Thử nghiệm xây dựng và huấn luyện mô hình hồi quy tuyến tính (Linear Regression)\n",
    "- [Linear Regression](https://scikit-learn.org/stable/modules/generated/sklearn.linear_model.LinearRegression.html) `linear_model.LinearRegression()`"
   ]
  },
  {
   "cell_type": "code",
   "execution_count": 7,
   "metadata": {},
   "outputs": [],
   "source": [
    "# Xây dựng mô hình sử dụng thư viện scikit-learn\n",
    "regr = linear_model.LinearRegression()\n"
   ]
  },
  {
   "cell_type": "markdown",
   "metadata": {},
   "source": [
    "## 3. Huấn luyện mô hình\n",
    "\n",
    "Sử dụng dữ liệu đã được chia ở bước trước đó để thực hiện huấn luyện mô hình \n",
    "\n",
    "=> Tìm được bộ trọng số $[w_0, w_1, ... w_n]$"
   ]
  },
  {
   "cell_type": "code",
   "execution_count": 9,
   "metadata": {},
   "outputs": [
    {
     "name": "stdout",
     "output_type": "stream",
     "text": [
      "[w1, ... w_n] =  [   3.92433306 -253.94783649  520.35362721  300.43342402 -603.61603253\n",
      "  325.29239155   10.80046579  139.51667826  669.06893875  111.45531856]\n",
      "w0 =  152.7301323963886\n"
     ]
    }
   ],
   "source": [
    "# huấn luyện mô hình\n",
    "regr.fit(diabetes_X_train, diabetes_y_train)\n",
    "print(\"[w1, ... w_n] = \", regr.coef_)\n",
    "print(\"w0 = \", regr.intercept_)"
   ]
  },
  {
   "cell_type": "markdown",
   "metadata": {},
   "source": [
    "## 4. Dự đoán các mẫu dữ liệu trong tập test "
   ]
  },
  {
   "cell_type": "markdown",
   "metadata": {},
   "source": [
    "# 4.1 Phán đoán"
   ]
  },
  {
   "cell_type": "code",
   "execution_count": 14,
   "metadata": {},
   "outputs": [
    {
     "data": {
      "text/html": [
       "<div>\n",
       "<style scoped>\n",
       "    .dataframe tbody tr th:only-of-type {\n",
       "        vertical-align: middle;\n",
       "    }\n",
       "\n",
       "    .dataframe tbody tr th {\n",
       "        vertical-align: top;\n",
       "    }\n",
       "\n",
       "    .dataframe thead th {\n",
       "        text-align: right;\n",
       "    }\n",
       "</style>\n",
       "<table border=\"1\" class=\"dataframe\">\n",
       "  <thead>\n",
       "    <tr style=\"text-align: right;\">\n",
       "      <th></th>\n",
       "      <th>Thực tế</th>\n",
       "      <th>Dự đoán</th>\n",
       "      <th>Lệch</th>\n",
       "    </tr>\n",
       "  </thead>\n",
       "  <tbody>\n",
       "    <tr>\n",
       "      <th>0</th>\n",
       "      <td>321.0</td>\n",
       "      <td>234.908470</td>\n",
       "      <td>86.091530</td>\n",
       "    </tr>\n",
       "    <tr>\n",
       "      <th>1</th>\n",
       "      <td>58.0</td>\n",
       "      <td>163.457251</td>\n",
       "      <td>105.457251</td>\n",
       "    </tr>\n",
       "    <tr>\n",
       "      <th>2</th>\n",
       "      <td>262.0</td>\n",
       "      <td>163.571593</td>\n",
       "      <td>98.428407</td>\n",
       "    </tr>\n",
       "    <tr>\n",
       "      <th>3</th>\n",
       "      <td>206.0</td>\n",
       "      <td>167.786647</td>\n",
       "      <td>38.213353</td>\n",
       "    </tr>\n",
       "    <tr>\n",
       "      <th>4</th>\n",
       "      <td>233.0</td>\n",
       "      <td>254.212487</td>\n",
       "      <td>21.212487</td>\n",
       "    </tr>\n",
       "    <tr>\n",
       "      <th>...</th>\n",
       "      <td>...</td>\n",
       "      <td>...</td>\n",
       "      <td>...</td>\n",
       "    </tr>\n",
       "    <tr>\n",
       "      <th>75</th>\n",
       "      <td>178.0</td>\n",
       "      <td>191.809673</td>\n",
       "      <td>13.809673</td>\n",
       "    </tr>\n",
       "    <tr>\n",
       "      <th>76</th>\n",
       "      <td>104.0</td>\n",
       "      <td>104.520901</td>\n",
       "      <td>0.520901</td>\n",
       "    </tr>\n",
       "    <tr>\n",
       "      <th>77</th>\n",
       "      <td>132.0</td>\n",
       "      <td>123.523369</td>\n",
       "      <td>8.476631</td>\n",
       "    </tr>\n",
       "    <tr>\n",
       "      <th>78</th>\n",
       "      <td>220.0</td>\n",
       "      <td>209.999198</td>\n",
       "      <td>10.000802</td>\n",
       "    </tr>\n",
       "    <tr>\n",
       "      <th>79</th>\n",
       "      <td>57.0</td>\n",
       "      <td>53.811960</td>\n",
       "      <td>3.188040</td>\n",
       "    </tr>\n",
       "  </tbody>\n",
       "</table>\n",
       "<p>80 rows × 3 columns</p>\n",
       "</div>"
      ],
      "text/plain": [
       "    Thực tế     Dự đoán        Lệch\n",
       "0     321.0  234.908470   86.091530\n",
       "1      58.0  163.457251  105.457251\n",
       "2     262.0  163.571593   98.428407\n",
       "3     206.0  167.786647   38.213353\n",
       "4     233.0  254.212487   21.212487\n",
       "..      ...         ...         ...\n",
       "75    178.0  191.809673   13.809673\n",
       "76    104.0  104.520901    0.520901\n",
       "77    132.0  123.523369    8.476631\n",
       "78    220.0  209.999198   10.000802\n",
       "79     57.0   53.811960    3.188040\n",
       "\n",
       "[80 rows x 3 columns]"
      ]
     },
     "execution_count": 14,
     "metadata": {},
     "output_type": "execute_result"
    }
   ],
   "source": [
    "# data =  load(path)\n",
    "\n",
    "# Thực hiện phán đoán cho dữ liệu mới\n",
    "diabetes_y_pred = regr.predict(diabetes_X_test)\n"
   ]
  },
  {
   "cell_type": "markdown",
   "metadata": {},
   "source": [
    "## 4.2 Kiểm tra chất lượng phán đoán"
   ]
  },
  {
   "cell_type": "code",
   "execution_count": 15,
   "metadata": {},
   "outputs": [
    {
     "data": {
      "text/html": [
       "<div>\n",
       "<style scoped>\n",
       "    .dataframe tbody tr th:only-of-type {\n",
       "        vertical-align: middle;\n",
       "    }\n",
       "\n",
       "    .dataframe tbody tr th {\n",
       "        vertical-align: top;\n",
       "    }\n",
       "\n",
       "    .dataframe thead th {\n",
       "        text-align: right;\n",
       "    }\n",
       "</style>\n",
       "<table border=\"1\" class=\"dataframe\">\n",
       "  <thead>\n",
       "    <tr style=\"text-align: right;\">\n",
       "      <th></th>\n",
       "      <th>Thực tế</th>\n",
       "      <th>Dự đoán</th>\n",
       "      <th>Lệch</th>\n",
       "    </tr>\n",
       "  </thead>\n",
       "  <tbody>\n",
       "    <tr>\n",
       "      <th>0</th>\n",
       "      <td>321.0</td>\n",
       "      <td>234.908470</td>\n",
       "      <td>86.091530</td>\n",
       "    </tr>\n",
       "    <tr>\n",
       "      <th>1</th>\n",
       "      <td>58.0</td>\n",
       "      <td>163.457251</td>\n",
       "      <td>105.457251</td>\n",
       "    </tr>\n",
       "    <tr>\n",
       "      <th>2</th>\n",
       "      <td>262.0</td>\n",
       "      <td>163.571593</td>\n",
       "      <td>98.428407</td>\n",
       "    </tr>\n",
       "    <tr>\n",
       "      <th>3</th>\n",
       "      <td>206.0</td>\n",
       "      <td>167.786647</td>\n",
       "      <td>38.213353</td>\n",
       "    </tr>\n",
       "    <tr>\n",
       "      <th>4</th>\n",
       "      <td>233.0</td>\n",
       "      <td>254.212487</td>\n",
       "      <td>21.212487</td>\n",
       "    </tr>\n",
       "    <tr>\n",
       "      <th>...</th>\n",
       "      <td>...</td>\n",
       "      <td>...</td>\n",
       "      <td>...</td>\n",
       "    </tr>\n",
       "    <tr>\n",
       "      <th>75</th>\n",
       "      <td>178.0</td>\n",
       "      <td>191.809673</td>\n",
       "      <td>13.809673</td>\n",
       "    </tr>\n",
       "    <tr>\n",
       "      <th>76</th>\n",
       "      <td>104.0</td>\n",
       "      <td>104.520901</td>\n",
       "      <td>0.520901</td>\n",
       "    </tr>\n",
       "    <tr>\n",
       "      <th>77</th>\n",
       "      <td>132.0</td>\n",
       "      <td>123.523369</td>\n",
       "      <td>8.476631</td>\n",
       "    </tr>\n",
       "    <tr>\n",
       "      <th>78</th>\n",
       "      <td>220.0</td>\n",
       "      <td>209.999198</td>\n",
       "      <td>10.000802</td>\n",
       "    </tr>\n",
       "    <tr>\n",
       "      <th>79</th>\n",
       "      <td>57.0</td>\n",
       "      <td>53.811960</td>\n",
       "      <td>3.188040</td>\n",
       "    </tr>\n",
       "  </tbody>\n",
       "</table>\n",
       "<p>80 rows × 3 columns</p>\n",
       "</div>"
      ],
      "text/plain": [
       "    Thực tế     Dự đoán        Lệch\n",
       "0     321.0  234.908470   86.091530\n",
       "1      58.0  163.457251  105.457251\n",
       "2     262.0  163.571593   98.428407\n",
       "3     206.0  167.786647   38.213353\n",
       "4     233.0  254.212487   21.212487\n",
       "..      ...         ...         ...\n",
       "75    178.0  191.809673   13.809673\n",
       "76    104.0  104.520901    0.520901\n",
       "77    132.0  123.523369    8.476631\n",
       "78    220.0  209.999198   10.000802\n",
       "79     57.0   53.811960    3.188040\n",
       "\n",
       "[80 rows x 3 columns]"
      ]
     },
     "execution_count": 15,
     "metadata": {},
     "output_type": "execute_result"
    }
   ],
   "source": [
    "pd.DataFrame(data=np.array([diabetes_y_test, diabetes_y_pred,\n",
    "                            abs(diabetes_y_test - diabetes_y_pred)]).T,\n",
    "             columns=[\"Thực tế\", \"Dự đoán\", \"Lệch\"])"
   ]
  },
  {
   "cell_type": "markdown",
   "metadata": {},
   "source": [
    "Sử dụng độ đo RMSE tính căn bậc 2 của trung bình bình phương lỗi. \n",
    "> $\\text{RMSE}(y, \\hat{y}) = \\sqrt{\\frac{1}{m} \\sum\\limits_{i=1}^{m} (y_i - \\hat{y}_i)^2}$\n",
    "\n",
    "- Lỗi càng nhỏ càng thể hiện mô hình có khả năng học và dự đoán hiệu quả"
   ]
  },
  {
   "cell_type": "code",
   "execution_count": 24,
   "metadata": {},
   "outputs": [
    {
     "name": "stdout",
     "output_type": "stream",
     "text": [
      "RMSE = 51.64223924042993\n"
     ]
    }
   ],
   "source": [
    "print(f'RMSE = {math.sqrt(mean_squared_error(diabetes_y_test, diabetes_y_pred))}')"
   ]
  },
  {
   "cell_type": "markdown",
   "metadata": {},
   "source": [
    "Phân phối các dự đoán đầu ra của mô hình #undone"
   ]
  },
  {
   "cell_type": "code",
   "execution_count": 22,
   "metadata": {},
   "outputs": [
    {
     "data": {
      "text/plain": [
       "<seaborn.axisgrid.FacetGrid at 0x7f759c1ecaf0>"
      ]
     },
     "execution_count": 22,
     "metadata": {},
     "output_type": "execute_result"
    },
    {
     "data": {
      "image/png": "[encoded data removed]",
      "text/plain": [
       "<Figure size 360x360 with 1 Axes>"
      ]
     },
     "metadata": {
      "needs_background": "light"
     },
     "output_type": "display_data"
    }
   ],
   "source": [
    "sns.displot(diabetes_y_test, )"
   ]
  },
  {
   "cell_type": "code",
   "execution_count": null,
   "metadata": {},
   "outputs": [],
   "source": []
  }
 ],
 "metadata": {
  "kernelspec": {
   "display_name": "Python 3",
   "language": "python",
   "name": "python3"
  },
  "language_info": {
   "codemirror_mode": {
    "name": "ipython",
    "version": 3
   },
   "file_extension": ".py",
   "mimetype": "text/x-python",
   "name": "python",
   "nbconvert_exporter": "python",
   "pygments_lexer": "ipython3",
   "version": "3.8.5"
  }
 },
 "nbformat": 4,
 "nbformat_minor": 4
}
